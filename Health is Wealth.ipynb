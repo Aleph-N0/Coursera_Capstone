{
    "nbformat_minor": 1, 
    "cells": [
        {
            "source": "# The Battle of Neighbourhoods: Health is Wealth!", 
            "cell_type": "markdown", 
            "metadata": {
                "collapsed": true
            }
        }, 
        {
            "source": "_\"Life is not to live, but to be well.\"_ - a quote by Martial", 
            "cell_type": "markdown", 
            "metadata": {}
        }, 
        {
            "source": "Statement of the Problem\n========================", 
            "cell_type": "markdown", 
            "metadata": {}
        }, 
        {
            "source": "In a cosmopolis like Delhi - my home city and the capital of India - there exists high density of a growing population, with ample demand for healthcare services, which are essential for a good quality of life, and increased longevity of the citizens. It would be mutually beneficial for citizens (whose health is at stake) and private investors (who would invest their wealth) and/or the government (that would look out for the welfare of its citizens) to know where to set up hospitals for addressing any shortage. This project aims to highlight the distribution of hospitals within Delhi's neighbourhoods and point out holes to be filled, so as to cater to the ever-growing demand.", 
            "cell_type": "markdown", 
            "metadata": {}
        }, 
        {
            "source": "Data Collection\n===============", 
            "cell_type": "markdown", 
            "metadata": {}
        }, 
        {
            "source": "* The names of the neighbourhoods will be taken from [a Wikipedia page](https://en.wikipedia.org/wiki/List_of_constituencies_of_the_Delhi_Legislative_Assembly \"Delhi's constituencies\").\n\n* The coordinates of the neighbourhoods will be obtained via Geopy. If the latitude and longitude of a neighbourhood is not available, Google will be used as a last resort.\n\n* Foursquare location data (utilizing the \"venue/explore\" feature) will be processed to get the count of hospitals (category ID= '4bf58dd8d48988d196941735') within a given radius ensconced within the neighbourhoods.\n\n* The Folium library is the mapping tool selected to visualize the neighbourhoods clustered within the city of Delhi.", 
            "cell_type": "markdown", 
            "metadata": {}
        }, 
        {
            "execution_count": null, 
            "cell_type": "code", 
            "metadata": {}, 
            "outputs": [], 
            "source": ""
        }
    ], 
    "metadata": {
        "kernelspec": {
            "display_name": "Python 3.6", 
            "name": "python3", 
            "language": "python"
        }, 
        "language_info": {
            "mimetype": "text/x-python", 
            "nbconvert_exporter": "python", 
            "version": "3.6.8", 
            "name": "python", 
            "file_extension": ".py", 
            "pygments_lexer": "ipython3", 
            "codemirror_mode": {
                "version": 3, 
                "name": "ipython"
            }
        }
    }, 
    "nbformat": 4
}